{
 "cells": [
  {
   "cell_type": "code",
   "execution_count": 1,
   "metadata": {},
   "outputs": [],
   "source": [
    "import numpy as np"
   ]
  },
  {
   "cell_type": "code",
   "execution_count": 5,
   "metadata": {},
   "outputs": [],
   "source": [
    "class RNN:\n",
    "    def __init__(self,Wx,Wh,b):\n",
    "        \"\"\"\n",
    "        パラメータの初期化をする\n",
    "        \n",
    "        Wx : 重み１\n",
    "        Wh : 重み2\n",
    "        b  : バイアス\n",
    "        \"\"\"\n",
    "        self.params = [Wx,Wh,b]\n",
    "        # 勾配を0で初期化\n",
    "        self.grads = [np.zeros_like(Wx),np.zeros_like(Wh),np.zeros_like(b)]\n",
    "        # 逆伝搬時にデータを一時格納する変数\n",
    "        self.cache = None\n",
    "    def forward(self,x,h_prev):\n",
    "        \"\"\"\n",
    "        RNNのセルのフォーワード時の次の時間のセルへの出力を計算する\n",
    "        h_t = tanh( h_(t-1) * W_h + x_t * W_x + b)\n",
    "        \n",
    "        x      : 下からの入力\n",
    "        h_prev : 前の時間のセルからの入力\n",
    "        \"\"\"\n",
    "        Wx , Wh ,b = self.params\n",
    "        t = np.dot(h_prev , Wh) + np.dot(x , Wx) + b\n",
    "        h_next = np.tanh(t)\n",
    "        \n",
    "        self.cache = (x, h_prev, h_next)\n",
    "        return h_next\n",
    "    def backward(self,dh_next):\n",
    "        \"\"\"\n",
    "        \n",
    "        \"\"\"\n",
    "        Wx , Wh, b = self.params\n",
    "        x , h_prev, h_next = self.cache\n",
    "        \n",
    "        dt = dh_next * (1 - h_next ** 2)\n",
    "        db = np.sum(dt , axis=0)\n",
    "        dWh = np.sum(dt,axis=0)\n",
    "        dh_prev = np.dot(dt , Wh.T)\n",
    "        dWx = np.dot(x.T, dt)\n",
    "        dx = np.dot(dt, Wx.T)\n",
    "        \n",
    "        self.grads[0][...] = dWx\n",
    "        self.grads[1][...] = dWh\n",
    "        self.grads[2][...] = db\n",
    "        \n",
    "        return dx , dh_prev"
   ]
  },
  {
   "cell_type": "code",
   "execution_count": 2,
   "metadata": {},
   "outputs": [],
   "source": [
    "class TimeRNN:\n",
    "    def __init__(self,Wx,Wh,b,stateful=False):\n",
    "        self.params = [Wx, Wh, b]\n",
    "        self.grads = [ np.zeros_like(Wx), np.zeros_like(Wh), np.zeros_like(b)]\n",
    "        self.layers = None\n",
    "        \n",
    "        self.h, self.dh = None, None\n",
    "        \n",
    "        self.stateful = stateful\n",
    "    def set_state(self,h):\n",
    "        self.h = h\n",
    "    def reset_state(self):\n",
    "        self.h = None"
   ]
  },
  {
   "cell_type": "code",
   "execution_count": null,
   "metadata": {},
   "outputs": [],
   "source": []
  }
 ],
 "metadata": {
  "kernelspec": {
   "display_name": "Python 3",
   "language": "python",
   "name": "python3"
  },
  "language_info": {
   "codemirror_mode": {
    "name": "ipython",
    "version": 3
   },
   "file_extension": ".py",
   "mimetype": "text/x-python",
   "name": "python",
   "nbconvert_exporter": "python",
   "pygments_lexer": "ipython3",
   "version": "3.6.7"
  }
 },
 "nbformat": 4,
 "nbformat_minor": 2
}
