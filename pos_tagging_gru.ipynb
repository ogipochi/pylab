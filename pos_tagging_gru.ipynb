{
 "cells": [
  {
   "cell_type": "code",
   "execution_count": 1,
   "metadata": {},
   "outputs": [
    {
     "name": "stderr",
     "output_type": "stream",
     "text": [
      "Using TensorFlow backend.\n"
     ]
    }
   ],
   "source": [
    "import collections\n",
    "import os\n",
    "\n",
    "import nltk\n",
    "import numpy as np\n",
    "from keras.layers import Activation, Dense, Dropout, RepeatVector, Embedding, \\\n",
    "    GRU, LSTM, TimeDistributed, Bidirectional\n",
    "from keras.models import Sequential\n",
    "from keras.preprocessing import sequence\n",
    "from keras.utils import np_utils\n",
    "from sklearn.model_selection import train_test_split"
   ]
  },
  {
   "cell_type": "code",
   "execution_count": null,
   "metadata": {},
   "outputs": [],
   "source": [
    "DATA_DIR = \"./data\"\n",
    "\n",
    "with open(os.path.join(DATA_DIR , \"treebank_sents.txt\") , \"w\") as fedata,open(os.path.join(DATA_DIR,\"treebank_poss.txt\"),\"w\") as ffdata:\n",
    "    sents = nltk.corpus.treebank.tagged_sents()\n",
    "    for sent in sents:\n",
    "        words , poss = [],[]\n",
    "        for word ,pos in sent :\n",
    "            if post == \"NONE\""
   ]
  }
 ],
 "metadata": {
  "kernelspec": {
   "display_name": "Python 3",
   "language": "python",
   "name": "python3"
  },
  "language_info": {
   "codemirror_mode": {
    "name": "ipython",
    "version": 3
   },
   "file_extension": ".py",
   "mimetype": "text/x-python",
   "name": "python",
   "nbconvert_exporter": "python",
   "pygments_lexer": "ipython3",
   "version": "3.6.7"
  }
 },
 "nbformat": 4,
 "nbformat_minor": 2
}
