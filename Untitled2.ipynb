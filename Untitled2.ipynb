{
 "cells": [
  {
   "cell_type": "code",
   "execution_count": 3,
   "metadata": {},
   "outputs": [],
   "source": [
    "import requests\n",
    "import json"
   ]
  },
  {
   "cell_type": "code",
   "execution_count": 4,
   "metadata": {},
   "outputs": [],
   "source": [
    "API_KEY = \"413395aa50164d61b2a4c514f14aab2e\""
   ]
  },
  {
   "cell_type": "code",
   "execution_count": 50,
   "metadata": {},
   "outputs": [],
   "source": [
    "params = {\n",
    "    \"apiKey\":API_KEY,\n",
    "    \"pageSize\":100,\n",
    "    \"to\":\"2018-12-11 10:20:10\",\n",
    "    \"from\":\"2018-12-11 7:10:10\",\n",
    "    \"sources\":\"bbc-news\"\n",
    "}\n",
    "url = \"https://newsapi.org/v2/everything\""
   ]
  },
  {
   "cell_type": "code",
   "execution_count": 51,
   "metadata": {},
   "outputs": [],
   "source": [
    "response = requests.get(url,params=params)"
   ]
  },
  {
   "cell_type": "code",
   "execution_count": 52,
   "metadata": {},
   "outputs": [],
   "source": [
    "articles = json.loads(response.content)[\"articles\"]"
   ]
  },
  {
   "cell_type": "code",
   "execution_count": 47,
   "metadata": {},
   "outputs": [
    {
     "name": "stdout",
     "output_type": "stream",
     "text": [
      "https://www.bbc.co.uk/news/uk-46524839\n",
      "https://www.bbc.co.uk/programmes/w172w4f4hp24y47\n",
      "https://www.bbc.co.uk/news/uk-wales-46523608\n",
      "https://www.bbc.co.uk/sport/boxing/46521987\n",
      "https://www.bbc.co.uk/news/av/uk-england-dorset-46520000/bournemouth-nightclub-crash-cctv-shows-car-hitting-doorman\n",
      "https://www.bbc.co.uk/news/av/world-latin-america-46524258/oil-thieves-cause-spill-in-rio-de-janeiro-s-guanabara-bay\n",
      "https://www.bbc.co.uk/news/newsbeat-46505064\n",
      "https://www.bbc.co.uk/news/uk-england-london-46519303\n",
      "https://www.bbc.co.uk/sport/cricket/46524292\n",
      "https://www.bbc.co.uk/sport/av/football/46521340\n",
      "https://www.bbc.co.uk/news/technology-46523270\n",
      "https://www.bbc.co.uk/news/uk-england-beds-bucks-herts-46519800\n",
      "https://www.bbc.co.uk/news/uk-scotland-edinburgh-east-fife-46522686\n",
      "https://www.bbc.co.uk/news/uk-scotland-highlands-islands-46521996\n",
      "https://www.bbc.co.uk/news/world-europe-46522116\n",
      "https://www.bbc.co.uk/news/world-latin-america-46522358\n",
      "https://www.bbc.co.uk/news/world-asia-46522548\n",
      "https://www.bbc.co.uk/news/world-europe-46523328\n",
      "https://www.bbc.co.uk/sport/football/46520506\n",
      "https://www.bbc.co.uk/programmes/w172w4f4hp24td3\n",
      "https://www.bbc.co.uk/news/uk-scotland-glasgow-west-46521870\n",
      "https://www.bbc.co.uk/news/world-46522126\n",
      "https://www.bbc.co.uk/news/uk-northern-ireland-46515666\n",
      "https://www.bbc.co.uk/news/uk-scotland-edinburgh-east-fife-46522679\n",
      "https://www.bbc.co.uk/news/world-asia-46522398\n",
      "https://www.bbc.co.uk/sport/football/46521130\n",
      "https://www.bbc.co.uk/news/uk-scotland-scotland-politics-46521056\n",
      "https://www.bbc.co.uk/news/world-africa-46520946\n",
      "https://www.bbc.co.uk/news/entertainment-arts-46520816\n",
      "https://www.bbc.co.uk/news/uk-46440039\n",
      "https://www.bbc.co.uk/news/uk-scotland-46521866\n",
      "https://www.bbc.co.uk/sport/boxing/46521726\n",
      "https://www.bbc.co.uk/news/uk-scotland-south-scotland-46521388\n",
      "https://www.bbc.co.uk/news/world-us-canada-46519600\n",
      "https://www.bbc.co.uk/news/uk-scotland-highlands-islands-46521998\n",
      "https://www.bbc.co.uk/news/uk-scotland-tayside-central-46522128\n",
      "https://www.bbc.co.uk/sport/rugby-union/46519494\n"
     ]
    }
   ],
   "source": [
    "for article in articles:\n",
    "    print(article[\"url\"])"
   ]
  },
  {
   "cell_type": "code",
   "execution_count": 53,
   "metadata": {},
   "outputs": [
    {
     "name": "stdout",
     "output_type": "stream",
     "text": [
      "26\n"
     ]
    }
   ],
   "source": [
    "print(len(articles))"
   ]
  },
  {
   "cell_type": "code",
   "execution_count": null,
   "metadata": {},
   "outputs": [],
   "source": []
  }
 ],
 "metadata": {
  "kernelspec": {
   "display_name": "Python 3",
   "language": "python",
   "name": "python3"
  },
  "language_info": {
   "codemirror_mode": {
    "name": "ipython",
    "version": 3
   },
   "file_extension": ".py",
   "mimetype": "text/x-python",
   "name": "python",
   "nbconvert_exporter": "python",
   "pygments_lexer": "ipython3",
   "version": "3.6.7"
  }
 },
 "nbformat": 4,
 "nbformat_minor": 2
}
