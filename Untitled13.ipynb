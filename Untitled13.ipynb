{
 "cells": [
  {
   "cell_type": "code",
   "execution_count": 1,
   "metadata": {},
   "outputs": [
    {
     "name": "stderr",
     "output_type": "stream",
     "text": [
      "Using TensorFlow backend.\n"
     ]
    }
   ],
   "source": [
    "from simpleLSTM import KerasEmbeddingLSTM,SampleData"
   ]
  },
  {
   "cell_type": "code",
   "execution_count": 2,
   "metadata": {},
   "outputs": [],
   "source": [
    "sample_data = SampleData()"
   ]
  },
  {
   "cell_type": "code",
   "execution_count": 3,
   "metadata": {},
   "outputs": [],
   "source": [
    "sample_data.read_data()"
   ]
  },
  {
   "cell_type": "code",
   "execution_count": 4,
   "metadata": {},
   "outputs": [],
   "source": [
    "sample_data.create_data()"
   ]
  },
  {
   "cell_type": "code",
   "execution_count": 5,
   "metadata": {},
   "outputs": [
    {
     "data": {
      "text/plain": [
       "array([  0,   0,   0,   0,   0,   0,   0,   0,   0,   0,   0,   0,   0,\n",
       "         0,   0,   0,  72,  29,   2,  31,   8,  14,   3,  44,  29,   2,\n",
       "        58,   5, 215,  38, 170,  27, 281,  24, 133,   5, 201, 198, 216,\n",
       "         4], dtype=int32)"
      ]
     },
     "execution_count": 5,
     "metadata": {},
     "output_type": "execute_result"
    }
   ],
   "source": [
    "# 指定したmax_sentence_lengthに満たない数の単語数の文章は先頭から順に0でパディングされる\n",
    "# 各単語は単語IDで示される\n",
    "sample_data.Xtest[4]"
   ]
  },
  {
   "cell_type": "code",
   "execution_count": 6,
   "metadata": {},
   "outputs": [
    {
     "name": "stdout",
     "output_type": "stream",
     "text": [
      "PAD\n",
      "UNK\n"
     ]
    }
   ],
   "source": [
    "# 指定したとおり0と1はpaddingになっている\n",
    "print(sample_data.index2word[0])\n",
    "print(sample_data.index2word[1])"
   ]
  },
  {
   "cell_type": "code",
   "execution_count": 7,
   "metadata": {},
   "outputs": [
    {
     "name": "stdout",
     "output_type": "stream",
     "text": [
      "vocabrary size:2002\n"
     ]
    }
   ],
   "source": [
    "print(\"vocabrary size:{}\".format(sample_data.vocab_size))"
   ]
  },
  {
   "cell_type": "code",
   "execution_count": 8,
   "metadata": {},
   "outputs": [
    {
     "name": "stdout",
     "output_type": "stream",
     "text": [
      "X test \r\n",
      " 1418 \r\n",
      " [[  0   0   0 ...   8  14   4]\n",
      " [  0   0   0 ...  52 149  15]\n",
      " [  0   0   0 ... 110  24  15]\n",
      " ...\n",
      " [  0   0   0 ...  30  46  15]\n",
      " [  0   0   0 ...  27 213   4]\n",
      " [  0   0   0 ... 100 136 227]]\n",
      "y test \r\n",
      "1418\r\n",
      "[1. 0. 1. ... 0. 1. 0.]\n"
     ]
    }
   ],
   "source": [
    "print(\"X test \\r\\n {} \\r\\n {}\".format(len(sample_data.Xtest),sample_data.Xtest))\n",
    "print(\"y test \\r\\n{}\\r\\n{}\".format(len(sample_data.ytest),sample_data.ytest))"
   ]
  },
  {
   "cell_type": "code",
   "execution_count": 9,
   "metadata": {},
   "outputs": [
    {
     "name": "stdout",
     "output_type": "stream",
     "text": [
      "i\n"
     ]
    }
   ],
   "source": [
    "# PADとUNKを抜かして一番多く出現する単語を表示してみる\n",
    "most_appearance = sample_data.index2word[2]\n",
    "print(most_appearance)"
   ]
  },
  {
   "cell_type": "code",
   "execution_count": 10,
   "metadata": {},
   "outputs": [
    {
     "name": "stdout",
     "output_type": "stream",
     "text": [
      "2\n"
     ]
    }
   ],
   "source": [
    "# では本当にその単語がID=2として登録されているのかも確認してみる\n",
    "print(sample_data.word2index[most_appearance])"
   ]
  },
  {
   "cell_type": "code",
   "execution_count": 11,
   "metadata": {},
   "outputs": [],
   "source": [
    "keras_lstm = KerasEmbeddingLSTM()\n",
    "keras_lstm.build(vocab_size=sample_data.vocab_size)"
   ]
  },
  {
   "cell_type": "code",
   "execution_count": 12,
   "metadata": {},
   "outputs": [
    {
     "name": "stdout",
     "output_type": "stream",
     "text": [
      "Train on 5668 samples, validate on 1418 samples\n",
      "Epoch 1/10\n",
      "5668/5668 [==============================] - 4s 740us/step - loss: 0.3229 - acc: 0.8525 - val_loss: 0.0777 - val_acc: 0.9732\n",
      "Epoch 2/10\n",
      "5668/5668 [==============================] - 4s 672us/step - loss: 0.0505 - acc: 0.9829 - val_loss: 0.0613 - val_acc: 0.9774\n",
      "Epoch 3/10\n",
      "5668/5668 [==============================] - 4s 691us/step - loss: 0.0259 - acc: 0.9928 - val_loss: 0.0570 - val_acc: 0.9831\n",
      "Epoch 4/10\n",
      "5668/5668 [==============================] - 4s 685us/step - loss: 0.0173 - acc: 0.9951 - val_loss: 0.0428 - val_acc: 0.9852\n",
      "Epoch 5/10\n",
      "5668/5668 [==============================] - 4s 673us/step - loss: 0.0104 - acc: 0.9979 - val_loss: 0.0392 - val_acc: 0.9873\n",
      "Epoch 6/10\n",
      "5668/5668 [==============================] - 4s 652us/step - loss: 0.0048 - acc: 0.9986 - val_loss: 0.0437 - val_acc: 0.9866\n",
      "Epoch 7/10\n",
      "5668/5668 [==============================] - 4s 663us/step - loss: 0.0053 - acc: 0.9986 - val_loss: 0.0602 - val_acc: 0.9859\n",
      "Epoch 8/10\n",
      "5668/5668 [==============================] - 4s 658us/step - loss: 0.0072 - acc: 0.9984 - val_loss: 0.0459 - val_acc: 0.9866\n",
      "Epoch 9/10\n",
      "5668/5668 [==============================] - 4s 655us/step - loss: 0.0028 - acc: 0.9989 - val_loss: 0.0688 - val_acc: 0.9838\n",
      "Epoch 10/10\n",
      "5668/5668 [==============================] - 4s 660us/step - loss: 0.0031 - acc: 0.9989 - val_loss: 0.0507 - val_acc: 0.9866\n",
      "1418/1418 [==============================] - 0s 122us/step\n",
      "Test Score:0.051, accuracy: 0.987\n"
     ]
    }
   ],
   "source": [
    "\n",
    "keras_lstm.train_model(\n",
    "    x_train=sample_data.Xtrain,\n",
    "    y_train=sample_data.ytrain,\n",
    "    x_test=sample_data.Xtest,\n",
    "    y_test=sample_data.ytest    \n",
    ")"
   ]
  },
  {
   "cell_type": "code",
   "execution_count": null,
   "metadata": {},
   "outputs": [],
   "source": []
  }
 ],
 "metadata": {
  "kernelspec": {
   "display_name": "Python 3",
   "language": "python",
   "name": "python3"
  },
  "language_info": {
   "codemirror_mode": {
    "name": "ipython",
    "version": 3
   },
   "file_extension": ".py",
   "mimetype": "text/x-python",
   "name": "python",
   "nbconvert_exporter": "python",
   "pygments_lexer": "ipython3",
   "version": "3.6.7"
  }
 },
 "nbformat": 4,
 "nbformat_minor": 2
}
