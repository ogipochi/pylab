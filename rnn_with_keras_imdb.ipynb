{
 "cells": [
  {
   "cell_type": "code",
   "execution_count": 1,
   "metadata": {},
   "outputs": [
    {
     "name": "stderr",
     "output_type": "stream",
     "text": [
      "Using TensorFlow backend.\n"
     ]
    }
   ],
   "source": [
    "from keras.datasets import imdb\n",
    "from keras.preprocessing import sequence"
   ]
  },
  {
   "cell_type": "code",
   "execution_count": 2,
   "metadata": {},
   "outputs": [],
   "source": [
    "max_features = 10000\n",
    "max_len = 500\n",
    "batch_size = 32"
   ]
  },
  {
   "cell_type": "code",
   "execution_count": 3,
   "metadata": {},
   "outputs": [],
   "source": [
    "(input_train,y_train),(input_test,y_test) = imdb.load_data(num_words=max_features)"
   ]
  },
  {
   "cell_type": "code",
   "execution_count": 4,
   "metadata": {},
   "outputs": [
    {
     "name": "stdout",
     "output_type": "stream",
     "text": [
      "train sequence 25000\n",
      "test sequence 25000\n"
     ]
    }
   ],
   "source": [
    "print(\"train sequence\",len(input_train))\n",
    "print(\"test sequence\",len(input_test))"
   ]
  },
  {
   "cell_type": "code",
   "execution_count": 5,
   "metadata": {},
   "outputs": [],
   "source": [
    "# データのサイズを揃える\n",
    "input_train = sequence.pad_sequences(input_train,maxlen=max_len)\n",
    "input_test = sequence.pad_sequences(input_test,maxlen=max_len)"
   ]
  },
  {
   "cell_type": "code",
   "execution_count": 6,
   "metadata": {},
   "outputs": [
    {
     "name": "stdout",
     "output_type": "stream",
     "text": [
      "input_train    shape: (25000, 500)\n",
      "iput_test      shape: (25000, 500)\n"
     ]
    }
   ],
   "source": [
    "# 正しく揃えられたか確認\n",
    "print('input_train    shape:',input_train.shape)\n",
    "print('iput_test      shape:',input_test.shape)"
   ]
  },
  {
   "cell_type": "code",
   "execution_count": 9,
   "metadata": {},
   "outputs": [],
   "source": [
    "# モデルを構築\n",
    "from keras.models import Sequential\n",
    "from keras.layers import Embedding , SimpleRNN,Dense,Dropout,Bidirectional,RepeatVector,TimeDistributed,Activation,LSTM"
   ]
  },
  {
   "cell_type": "code",
   "execution_count": 14,
   "metadata": {},
   "outputs": [
    {
     "name": "stdout",
     "output_type": "stream",
     "text": [
      "Train on 20000 samples, validate on 5000 samples\n",
      "Epoch 1/10\n",
      "20000/20000 [==============================] - 10s 503us/step - loss: 0.6377 - acc: 0.6187 - val_loss: 0.5058 - val_acc: 0.7782\n",
      "Epoch 2/10\n",
      "20000/20000 [==============================] - 10s 500us/step - loss: 0.4182 - acc: 0.8202 - val_loss: 0.3714 - val_acc: 0.8480\n",
      "Epoch 3/10\n",
      "20000/20000 [==============================] - 10s 495us/step - loss: 0.3098 - acc: 0.8770 - val_loss: 0.3356 - val_acc: 0.8604\n",
      "Epoch 4/10\n",
      "20000/20000 [==============================] - 10s 496us/step - loss: 0.2531 - acc: 0.9018 - val_loss: 0.3674 - val_acc: 0.8330\n",
      "Epoch 5/10\n",
      "20000/20000 [==============================] - 10s 497us/step - loss: 0.2066 - acc: 0.9224 - val_loss: 0.3869 - val_acc: 0.8616\n",
      "Epoch 6/10\n",
      "20000/20000 [==============================] - 10s 506us/step - loss: 0.1421 - acc: 0.9502 - val_loss: 0.4036 - val_acc: 0.8626\n",
      "Epoch 7/10\n",
      "20000/20000 [==============================] - 10s 497us/step - loss: 0.1021 - acc: 0.9646 - val_loss: 0.4292 - val_acc: 0.8484\n",
      "Epoch 8/10\n",
      "20000/20000 [==============================] - 10s 499us/step - loss: 0.1147 - acc: 0.9618 - val_loss: 0.5503 - val_acc: 0.8320\n",
      "Epoch 9/10\n",
      "20000/20000 [==============================] - 10s 498us/step - loss: 0.0613 - acc: 0.9808 - val_loss: 0.5326 - val_acc: 0.8180\n",
      "Epoch 10/10\n",
      "20000/20000 [==============================] - 10s 498us/step - loss: 0.0360 - acc: 0.9886 - val_loss: 0.5767 - val_acc: 0.8216\n"
     ]
    }
   ],
   "source": [
    "model = Sequential()\n",
    "model.add(Embedding(max_features,32))\n",
    "model.add(SimpleRNN(32))\n",
    "model.add(Dense(1,activation='sigmoid'))\n",
    "\n",
    "model.compile(optimizer='rmsprop',loss='binary_crossentropy',metrics=['acc'])\n",
    "\n",
    "history = model.fit(input_train,y_train,epochs=10,batch_size=128,validation_split=0.2)"
   ]
  },
  {
   "cell_type": "code",
   "execution_count": 15,
   "metadata": {},
   "outputs": [],
   "source": [
    "import matplotlib.pyplot as plt"
   ]
  },
  {
   "cell_type": "code",
   "execution_count": 18,
   "metadata": {},
   "outputs": [],
   "source": [
    "# model.fitの返し値には各層の値の履歴が入っている\n",
    "acc = history.history[\"acc\"]\n",
    "val_acc = history.history[\"val_acc\"]\n",
    "loss = history.history[\"loss\"]\n",
    "val_loss = history.history[\"val_loss\"]"
   ]
  },
  {
   "cell_type": "code",
   "execution_count": 24,
   "metadata": {},
   "outputs": [
    {
     "data": {
      "text/plain": [
       "<matplotlib.legend.Legend at 0x7fa25f539908>"
      ]
     },
     "execution_count": 24,
     "metadata": {},
     "output_type": "execute_result"
    },
    {
     "data": {
      "image/png": "[encoded data removed]",
      "text/plain": [
       "<Figure size 432x288 with 1 Axes>"
      ]
     },
     "metadata": {
      "needs_background": "light"
     },
     "output_type": "display_data"
    }
   ],
   "source": [
    "# 横軸をサイズから取得\n",
    "x = range(len(acc))\n",
    "\n",
    "#正解率の推移をプロット\n",
    "plt.plot(x,acc,'bo',label=\"Training acc\")\n",
    "plt.plot(x,val_acc,'b',label=\"Validation acc\")\n",
    "plt.legend()"
   ]
  },
  {
   "cell_type": "code",
   "execution_count": 25,
   "metadata": {},
   "outputs": [
    {
     "data": {
      "image/png": "[encoded data removed]",
      "text/plain": [
       "<Figure size 432x288 with 1 Axes>"
      ]
     },
     "metadata": {
      "needs_background": "light"
     },
     "output_type": "display_data"
    }
   ],
   "source": [
    "# 損失値をプロット\n",
    "plt.plot(x,loss,'bo',label=\"Training loss\")\n",
    "plt.plot(x,val_loss,'b',label=\"Validatioin loss\")\n",
    "plt.legend()\n",
    "plt.show()"
   ]
  },
  {
   "cell_type": "code",
   "execution_count": 8,
   "metadata": {},
   "outputs": [],
   "source": [
    "from keras.layers import LSTM"
   ]
  },
  {
   "cell_type": "code",
   "execution_count": null,
   "metadata": {},
   "outputs": [
    {
     "name": "stdout",
     "output_type": "stream",
     "text": [
      "Train on 20000 samples, validate on 5000 samples\n",
      "Epoch 1/10\n",
      "20000/20000 [==============================] - 29s 1ms/step - loss: 0.4975 - acc: 0.7681 - val_loss: 0.4132 - val_acc: 0.8214\n",
      "Epoch 2/10\n",
      "20000/20000 [==============================] - 29s 1ms/step - loss: 0.2972 - acc: 0.8817 - val_loss: 0.3135 - val_acc: 0.8658\n",
      "Epoch 3/10\n",
      "20000/20000 [==============================] - 28s 1ms/step - loss: 0.2371 - acc: 0.9084 - val_loss: 0.3452 - val_acc: 0.8622\n",
      "Epoch 4/10\n",
      "20000/20000 [==============================] - 29s 1ms/step - loss: 0.2020 - acc: 0.9247 - val_loss: 0.3462 - val_acc: 0.8566\n",
      "Epoch 5/10\n",
      "20000/20000 [==============================] - 28s 1ms/step - loss: 0.1749 - acc: 0.9348 - val_loss: 0.2944 - val_acc: 0.8842\n",
      "Epoch 6/10\n",
      "20000/20000 [==============================] - 29s 1ms/step - loss: 0.1620 - acc: 0.9412 - val_loss: 0.3772 - val_acc: 0.8598\n",
      "Epoch 7/10\n",
      "20000/20000 [==============================] - 29s 1ms/step - loss: 0.1406 - acc: 0.9496 - val_loss: 0.3209 - val_acc: 0.8682\n",
      "Epoch 8/10\n",
      "20000/20000 [==============================] - 31s 2ms/step - loss: 0.1341 - acc: 0.9530 - val_loss: 0.4374 - val_acc: 0.8700\n",
      "Epoch 9/10\n",
      "13312/20000 [==================>...........] - ETA: 9s - loss: 0.1232 - acc: 0.9573"
     ]
    }
   ],
   "source": [
    "model = Sequential()\n",
    "model.add(Embedding(max_features,32))\n",
    "model.add(LSTM(32))\n",
    "model.add(Dense(1,activation='sigmoid'))\n",
    "model.compile(optimizer='rmsprop',loss='binary_crossentropy',metrics=['acc'])\n",
    "history = model.fit(input_train,y_train,epochs=10,batch_size=128,validation_split=0.2)"
   ]
  },
  {
   "cell_type": "code",
   "execution_count": null,
   "metadata": {},
   "outputs": [],
   "source": []
  }
 ],
 "metadata": {
  "kernelspec": {
   "display_name": "Python 3",
   "language": "python",
   "name": "python3"
  },
  "language_info": {
   "codemirror_mode": {
    "name": "ipython",
    "version": 3
   },
   "file_extension": ".py",
   "mimetype": "text/x-python",
   "name": "python",
   "nbconvert_exporter": "python",
   "pygments_lexer": "ipython3",
   "version": "3.6.7"
  }
 },
 "nbformat": 4,
 "nbformat_minor": 2
}
